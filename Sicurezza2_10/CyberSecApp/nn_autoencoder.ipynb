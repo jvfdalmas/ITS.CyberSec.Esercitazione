{
 "cells": [
  {
   "cell_type": "code",
   "execution_count": null,
   "metadata": {
    "vscode": {
     "languageId": "plaintext"
    }
   },
   "outputs": [],
   "source": [
    "# nn_autoencoder.ipynb\n",
    "# Autoencoder per anomaly detection\n",
    "import pandas as pd\n",
    "import numpy as np\n",
    "from sklearn.model_selection import train_test_split\n",
    "from sklearn.preprocessing import StandardScaler\n",
    "from tensorflow.keras.models import Model\n",
    "from tensorflow.keras.layers import Input, Dense\n",
    "from tensorflow.keras import regularizers\n",
    "\n",
    "# Esempio: dataset di log \"normali\" + \"anomali\"\n",
    "df = pd.read_csv('user_logs.csv')  # fittizio\n",
    "\n",
    "# Supponiamo che \"anomaly\" = 0 o 1 (label)\n",
    "df_normal = df[df['anomaly']==0].drop('anomaly', axis=1)\n",
    "df_anomal = df[df['anomaly']==1].drop('anomaly', axis=1)\n",
    "\n",
    "# Useremo SOLO i dati normali per addestrare l'autoencoder\n",
    "X_normal = df_normal.values\n",
    "X_anomal = df_anomal.values\n",
    "\n",
    "scaler = StandardScaler()\n",
    "X_normal_scaled = scaler.fit_transform(X_normal)\n",
    "X_anomal_scaled = scaler.transform(X_anomal)\n",
    "\n",
    "# Dividiamo train e test\n",
    "X_train, X_val = train_test_split(X_normal_scaled, test_size=0.2, random_state=42)\n",
    "\n",
    "input_dim = X_train.shape[1]\n",
    "\n",
    "# Definizione autoencoder\n",
    "input_layer = Input(shape=(input_dim,))\n",
    "encoded = Dense(16, activation='relu', \n",
    "                activity_regularizer=regularizers.l1(1e-5))(input_layer)\n",
    "encoded = Dense(8, activation='relu')(encoded)\n",
    "decoded = Dense(16, activation='relu')(encoded)\n",
    "output_layer = Dense(input_dim, activation='linear')(decoded)\n",
    "\n",
    "autoencoder = Model(inputs=input_layer, outputs=output_layer)\n",
    "autoencoder.compile(optimizer='adam', loss='mse')\n",
    "\n",
    "# Training su dati normali\n",
    "history = autoencoder.fit(X_train, X_train,\n",
    "                          epochs=20,\n",
    "                          batch_size=32,\n",
    "                          validation_data=(X_val, X_val),\n",
    "                          verbose=1)\n",
    "\n",
    "# Calcoliamo errore di ricostruzione\n",
    "reconstructions = autoencoder.predict(X_normal_scaled)\n",
    "mse = np.mean(np.power(X_normal_scaled - reconstructions, 2), axis=1)\n",
    "threshold = np.percentile(mse, 95)  # soglia al 95% percentile\n",
    "\n",
    "# Test su dati anomali\n",
    "reconstructions_anom = autoencoder.predict(X_anomal_scaled)\n",
    "mse_anom = np.mean(np.power(X_anomal_scaled - reconstructions_anom, 2), axis=1)\n",
    "\n",
    "# Classificazione:\n",
    "normal_pred = (mse < threshold).astype(int)   # 1 = normale, 0 = anomalia\n",
    "anomal_pred = (mse_anom < threshold).astype(int)\n",
    "\n",
    "print(\"Percentuale di anomalie correttamente rilevate:\", np.mean(anomal_pred==0)*100, \"%\")\n"
   ]
  }
 ],
 "metadata": {
  "language_info": {
   "name": "python"
  }
 },
 "nbformat": 4,
 "nbformat_minor": 2
}
