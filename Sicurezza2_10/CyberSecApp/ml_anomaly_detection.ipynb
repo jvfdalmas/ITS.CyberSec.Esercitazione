{
 "cells": [
  {
   "cell_type": "code",
   "execution_count": null,
   "metadata": {
    "vscode": {
     "languageId": "plaintext"
    }
   },
   "outputs": [],
   "source": [
    "# ml_anomaly_detection.ipynb\n",
    "# Esempio con Isolation Forest su dataset NSL-KDD (o simile)\n",
    "\n",
    "import pandas as pd\n",
    "import numpy as np\n",
    "from sklearn.ensemble import IsolationForest\n",
    "from sklearn.preprocessing import LabelEncoder, StandardScaler\n",
    "from sklearn.metrics import classification_report, confusion_matrix\n",
    "\n",
    "# Carica dataset (ad esempio nsl_kdd_train.csv e nsl_kdd_test.csv)\n",
    "train_df = pd.read_csv('nsl_kdd_train.csv')\n",
    "test_df = pd.read_csv('nsl_kdd_test.csv')\n",
    "\n",
    "# Preprocessing: encoding di colonne categoriche (protocol_type, service, flag, ecc.)\n",
    "cat_cols = ['protocol_type', 'service', 'flag']\n",
    "for c in cat_cols:\n",
    "    le = LabelEncoder()\n",
    "    train_df[c] = le.fit_transform(train_df[c])\n",
    "    test_df[c] = le.transform(test_df[c])\n",
    "\n",
    "# Separiamo feature e label\n",
    "# Supponendo che la colonna \"label\" sia tipo \"normal\" vs \"attack\"\n",
    "y_train = train_df['label'].apply(lambda x: 0 if x=='normal' else 1)\n",
    "y_test = test_df['label'].apply(lambda x: 0 if x=='normal' else 1)\n",
    "\n",
    "X_train = train_df.drop(['label'], axis=1)\n",
    "X_test = test_df.drop(['label'], axis=1)\n",
    "\n",
    "# Standardizzazione\n",
    "scaler = StandardScaler()\n",
    "X_train_scaled = scaler.fit_transform(X_train)\n",
    "X_test_scaled = scaler.transform(X_test)\n",
    "\n",
    "# IsolationForest di base\n",
    "iso_forest = IsolationForest(n_estimators=100, contamination=0.1, random_state=42)\n",
    "iso_forest.fit(X_train_scaled)\n",
    "\n",
    "# Predizione: -1 = anomalia, 1 = normale\n",
    "y_pred_train = iso_forest.predict(X_train_scaled)\n",
    "y_pred_test = iso_forest.predict(X_test_scaled)\n",
    "\n",
    "# Convertiamo -1/1 in 1/0 per confrontarci con y_test\n",
    "# In anomaly detection: -1 → anomalia (1), 1 → normale (0)\n",
    "y_pred_test_converted = [1 if x==-1 else 0 for x in y_pred_test]\n",
    "\n",
    "print(confusion_matrix(y_test, y_pred_test_converted))\n",
    "print(classification_report(y_test, y_pred_test_converted))\n"
   ]
  }
 ],
 "metadata": {
  "language_info": {
   "name": "python"
  }
 },
 "nbformat": 4,
 "nbformat_minor": 2
}
