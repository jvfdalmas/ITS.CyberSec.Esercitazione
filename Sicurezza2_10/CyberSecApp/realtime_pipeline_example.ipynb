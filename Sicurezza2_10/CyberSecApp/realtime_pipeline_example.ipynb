{
 "cells": [
  {
   "cell_type": "code",
   "execution_count": null,
   "metadata": {
    "vscode": {
     "languageId": "plaintext"
    }
   },
   "outputs": [],
   "source": [
    "# realtime_pipeline_example.ipynb\n",
    "# Esempio prototipale di pipeline in streaming con Kafka e modello ML pre-addestrato\n",
    "\n",
    "!pip install kafka-python joblib\n",
    "\n",
    "import json\n",
    "import time\n",
    "import joblib\n",
    "import numpy as np\n",
    "from kafka import KafkaConsumer\n",
    "\n",
    "# Carica un modello pre-addestrato (ad es. un IsolationForest salvato)\n",
    "model = joblib.load('isolation_forest_model.pkl')\n",
    "\n",
    "# Consumer Kafka\n",
    "consumer = KafkaConsumer(\n",
    "    'cyber_logs_topic',\n",
    "    bootstrap_servers=['localhost:9092'],\n",
    "    auto_offset_reset='earliest',\n",
    "    enable_auto_commit=True,\n",
    "    group_id='my-group')\n",
    "\n",
    "print(\"In ascolto sul topic 'cyber_logs_topic'...\")\n",
    "\n",
    "for message in consumer:\n",
    "    # message.value è in formato bytes, convertiamo in json\n",
    "    log_entry = json.loads(message.value.decode('utf-8'))\n",
    "    # Esempio: log_entry = {\"feature1\": 0.5, \"feature2\": 102, ...}\n",
    "\n",
    "    # Creiamo un vettore di feature\n",
    "    feature_vector = np.array([[\n",
    "        log_entry[\"feature1\"],\n",
    "        log_entry[\"feature2\"],\n",
    "        # ...\n",
    "    ]])\n",
    "\n",
    "    # Prediciamo\n",
    "    pred = model.predict(feature_vector)  # -1 = anomalia, 1 = normale\n",
    "\n",
    "    if pred[0] == -1:\n",
    "        print(\"ALERT: Anomalia rilevata -\", log_entry)\n",
    "        # eventuale invio email / Slack ...\n",
    "    else:\n",
    "        print(\"OK: traffico regolare -\", log_entry)\n",
    "\n",
    "    time.sleep(0.1)  # per evitare spam in questa demo\n"
   ]
  }
 ],
 "metadata": {
  "language_info": {
   "name": "python"
  }
 },
 "nbformat": 4,
 "nbformat_minor": 2
}
